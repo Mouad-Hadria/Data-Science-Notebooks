{
 "cells": [
  {
   "cell_type": "code",
   "execution_count": 3,
   "id": "b0ab00f1",
   "metadata": {},
   "outputs": [],
   "source": [
    "import numpy as np\n",
    "import pandas as pd\n",
    "import matplotlib.pyplot as plt\n",
    "import scipy.stats as stats"
   ]
  },
  {
   "cell_type": "markdown",
   "id": "1cbf90c8",
   "metadata": {},
   "source": [
    "# One-Sample T-Test"
   ]
  },
  {
   "cell_type": "markdown",
   "id": "cb67837c",
   "metadata": {},
   "source": [
    "Preparing the Data"
   ]
  },
  {
   "cell_type": "code",
   "execution_count": 88,
   "id": "6ba60998",
   "metadata": {},
   "outputs": [],
   "source": [
    "np.random.seed(40)\n",
    "\n",
    "population_data_1 = np.random.normal(50 , 10, 50000)\n",
    "\n",
    "# Generating a considerable sample dataset\n",
    "\n",
    "sample_data_1 = np.random.normal(49 , 10, 500)"
   ]
  },
  {
   "cell_type": "code",
   "execution_count": 89,
   "id": "1cef69e6",
   "metadata": {},
   "outputs": [
    {
     "data": {
      "image/png": "[encoded data removed]",
      "text/plain": [
       "<Figure size 640x480 with 1 Axes>"
      ]
     },
     "metadata": {},
     "output_type": "display_data"
    }
   ],
   "source": [
    "plt.hist(population_data_1, bins=50, density=True, alpha=0.6, color='blue', label='Population')\n",
    "plt.hist(sample_data_1, bins=30, density=True, alpha=0.8, color='red', label='Sample')\n",
    "plt.title('Population and Sample Distributions')\n",
    "plt.xlabel('Value')\n",
    "plt.ylabel('Density')\n",
    "plt.legend()\n",
    "plt.show()"
   ]
  },
  {
   "cell_type": "markdown",
   "id": "0d814799",
   "metadata": {},
   "source": [
    "The population and sample means"
   ]
  },
  {
   "cell_type": "code",
   "execution_count": 90,
   "id": "a5c18cec",
   "metadata": {},
   "outputs": [
    {
     "name": "stdout",
     "output_type": "stream",
     "text": [
      "50.016453111951634 48.86620038023108\n"
     ]
    }
   ],
   "source": [
    "print(population_data_1.mean(),sample_data_1.mean())"
   ]
  },
  {
   "cell_type": "markdown",
   "id": "16aa9235",
   "metadata": {},
   "source": [
    "## Hypothesis Testing"
   ]
  },
  {
   "cell_type": "code",
   "execution_count": 110,
   "id": "e639c65b",
   "metadata": {},
   "outputs": [],
   "source": [
    "t_statistic_1 , p_value_1 = stats.ttest_1samp( a = sample_data_1 , popmean = population_data_1.mean() )"
   ]
  },
  {
   "cell_type": "code",
   "execution_count": 111,
   "id": "73f754e9",
   "metadata": {},
   "outputs": [
    {
     "name": "stdout",
     "output_type": "stream",
     "text": [
      "T-test is :-2.6271306709390263\n"
     ]
    }
   ],
   "source": [
    "print(f\"T-test is :{t_statistic_1}\")"
   ]
  },
  {
   "cell_type": "markdown",
   "id": "0f1f9ea3",
   "metadata": {},
   "source": [
    "In this hypothesis testing, we are examining whether the sample mean differs from the population mean. The alternative hypothesis, which we aim to support, asserts this difference, while the null hypothesis posits that both the sample mean and population mean are equal.\n",
    "\n",
    "The T-test measures how much the sample evidence (sample mean) deviates from the null hypothesis. If the evidence falls into the rejection region of the null hypothesis, we reject the null hypothesis."
   ]
  },
  {
   "cell_type": "code",
   "execution_count": 101,
   "id": "a7a8f18d",
   "metadata": {},
   "outputs": [
    {
     "data": {
      "text/plain": [
       "-1.9647293909876653"
      ]
     },
     "execution_count": 101,
     "metadata": {},
     "output_type": "execute_result"
    }
   ],
   "source": [
    "# Left quantile\n",
    "\n",
    "stats.t.ppf( 0.05/2 , df=(len(sample_data_1)-1) )"
   ]
  },
  {
   "cell_type": "code",
   "execution_count": 103,
   "id": "8a30c36d",
   "metadata": {},
   "outputs": [
    {
     "data": {
      "text/plain": [
       "1.9647293909876649"
      ]
     },
     "execution_count": 103,
     "metadata": {},
     "output_type": "execute_result"
    }
   ],
   "source": [
    "# Right quantile\n",
    "\n",
    "stats.t.ppf( (1 - 0.05/2) , df=(len(sample_data_1)-1) )"
   ]
  },
  {
   "cell_type": "markdown",
   "id": "807a2cc5",
   "metadata": {},
   "source": [
    "In a two-tailed hypothesis test, significance is assessed in both tails of the t-distribution. For a significance level of 0.05, the critical t-values marking the boundaries of the rejection regions are typically symmetrically located around the mean. For instance, at alpha = 0.05, the critical values might be approximately -1.964 and +1.964, encompassing the rejection regions beyond these t-values in both tails of the distribution.\n",
    "\n",
    "The test statistic falls within the rejection region, leading us to reject the null hypothesis at a 5% significance level."
   ]
  },
  {
   "cell_type": "code",
   "execution_count": 112,
   "id": "a5885b87",
   "metadata": {},
   "outputs": [
    {
     "name": "stdout",
     "output_type": "stream",
     "text": [
      "The P_value of the T-test is :0.008875726427582012\n"
     ]
    }
   ],
   "source": [
    "print(f\"The P_value of the T-test is :{p_value_1}\")"
   ]
  },
  {
   "cell_type": "markdown",
   "id": "8d4bc027",
   "metadata": {},
   "source": [
    "The P-Value Approache:\n",
    "Since 0.008 is inferiour than 0.05, We reject the null hypothesis !"
   ]
  },
  {
   "cell_type": "markdown",
   "id": "a7ac9ee3",
   "metadata": {},
   "source": [
    "# Two-Sample T-Test"
   ]
  },
  {
   "cell_type": "markdown",
   "id": "ab38337c",
   "metadata": {},
   "source": [
    "Prepare data"
   ]
  },
  {
   "cell_type": "code",
   "execution_count": 206,
   "id": "866b121c",
   "metadata": {},
   "outputs": [],
   "source": [
    "sample_data_2 = np.random.normal( 49 , 11 , 100 )"
   ]
  },
  {
   "cell_type": "markdown",
   "id": "42317853",
   "metadata": {},
   "source": [
    "## Hypothesis Testing"
   ]
  },
  {
   "cell_type": "code",
   "execution_count": 207,
   "id": "00b571b3",
   "metadata": {},
   "outputs": [],
   "source": [
    "t_statistic_2 , p_value_2 = stats.ttest_ind(a= sample_data_1 , b=sample_data_2, equal_var=False)"
   ]
  },
  {
   "cell_type": "code",
   "execution_count": 210,
   "id": "2576ae2c",
   "metadata": {},
   "outputs": [
    {
     "name": "stdout",
     "output_type": "stream",
     "text": [
      "0.7637324784073689 , 0.4463374585082601209151675902830902487040\n"
     ]
    }
   ],
   "source": [
    "print(f\"{t_statistic_2} , {p_value_2:.40f}\")"
   ]
  },
  {
   "cell_type": "markdown",
   "id": "a226f7e5",
   "metadata": {},
   "source": [
    "As 0.44 is greater than 0.05, there isn't sufficient evidence to reject the null hypothesis, indicating no significant difference between the means of the two samples."
   ]
  },
  {
   "cell_type": "markdown",
   "id": "6bb34257",
   "metadata": {},
   "source": [
    "# Paired T-Test"
   ]
  },
  {
   "cell_type": "markdown",
   "id": "e9ab08b6",
   "metadata": {},
   "source": [
    "Prepare data"
   ]
  },
  {
   "cell_type": "code",
   "execution_count": 4,
   "id": "06c7cfe7",
   "metadata": {},
   "outputs": [],
   "source": [
    "before= stats.norm.rvs(scale=30, loc=250, size=100)\n",
    "\n",
    "after = before + stats.norm.rvs(scale=5, loc=-1.25, size=100)\n",
    "\n",
    "weight_df = pd.DataFrame({\"weight_before\":before,\n",
    "                          \"weight_after\":after,\n",
    "                          \"weight_change\":after-before})"
   ]
  },
  {
   "cell_type": "code",
   "execution_count": 5,
   "id": "c13ca01c",
   "metadata": {},
   "outputs": [
    {
     "data": {
      "text/plain": [
       "TtestResult(statistic=3.144082571163074, pvalue=0.0021993911368008816, df=99)"
      ]
     },
     "execution_count": 5,
     "metadata": {},
     "output_type": "execute_result"
    }
   ],
   "source": [
    "stats.ttest_rel(a = before, b = after)"
   ]
  },
  {
   "cell_type": "markdown",
   "id": "5be426f8",
   "metadata": {},
   "source": [
    "We opted for the Paired T-test as we're investigating the impact of a weight loss treatment within the same group. With a p-value of 0.002, which is less than 0.05, it suggests a notable change has occurred!"
   ]
  }
 ],
 "metadata": {
  "kernelspec": {
   "display_name": "Python 3",
   "language": "python",
   "name": "python3"
  },
  "language_info": {
   "codemirror_mode": {
    "name": "ipython",
    "version": 3
   },
   "file_extension": ".py",
   "mimetype": "text/x-python",
   "name": "python",
   "nbconvert_exporter": "python",
   "pygments_lexer": "ipython3",
   "version": "3.11.7"
  }
 },
 "nbformat": 4,
 "nbformat_minor": 5
}
