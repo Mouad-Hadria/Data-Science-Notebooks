{
 "cells": [
  {
   "cell_type": "code",
   "execution_count": 16,
   "id": "5e61395f",
   "metadata": {},
   "outputs": [],
   "source": [
    "import numpy as np\n",
    "import scipy.stats as stats\n",
    "import matplotlib.pyplot as plt\n",
    "import seaborn as sns\n",
    "import math"
   ]
  },
  {
   "cell_type": "markdown",
   "id": "03cd8f5c",
   "metadata": {},
   "source": [
    "# Estimating Population Proportions"
   ]
  },
  {
   "cell_type": "markdown",
   "id": "b253cd57",
   "metadata": {},
   "source": [
    "Preparing data"
   ]
  },
  {
   "cell_type": "code",
   "execution_count": 17,
   "id": "e95969f0",
   "metadata": {},
   "outputs": [],
   "source": [
    "data_1 = ([\"Ford\"]*100000) + ([\"Toyota\"]*50000) +\\\n",
    "                   ([\"Peugot\"]*50000) + ([\"Renault\"]*25000) +\\\n",
    "                   ([\"Chevrolet\"]*25000)"
   ]
  },
  {
   "cell_type": "markdown",
   "id": "e56a664b",
   "metadata": {},
   "source": [
    "The population proportions"
   ]
  },
  {
   "cell_type": "markdown",
   "id": "3a7555e4",
   "metadata": {},
   "source": [
    "for brand in set(data_1):\n",
    "    print(\"The car brand \"+brand+ f\" represents {data_1.count(brand)*100/len(data_1)}\"+\" %\")"
   ]
  },
  {
   "cell_type": "markdown",
   "id": "ef53d8d1",
   "metadata": {},
   "source": [
    "The sample data"
   ]
  },
  {
   "cell_type": "code",
   "execution_count": 19,
   "id": "b4098b9b",
   "metadata": {},
   "outputs": [],
   "source": [
    "np.random.seed(40)\n",
    "data_1_sample = list(np.random.choice(a = data_1 , size = 500))"
   ]
  },
  {
   "cell_type": "code",
   "execution_count": 20,
   "id": "84bf02e4",
   "metadata": {},
   "outputs": [],
   "source": [
    "n = len(data_1_sample)"
   ]
  },
  {
   "cell_type": "markdown",
   "id": "80697b05",
   "metadata": {},
   "source": [
    "The sample proportions"
   ]
  },
  {
   "cell_type": "code",
   "execution_count": 21,
   "id": "55903331",
   "metadata": {},
   "outputs": [
    {
     "name": "stdout",
     "output_type": "stream",
     "text": [
      "The car brand Toyota represent 19.6 %\n",
      "The car brand Renault represent 10.0 %\n",
      "The car brand Peugot represent 19.4 %\n",
      "The car brand Ford represent 41.2 %\n",
      "The car brand Chevrolet represent 9.8 %\n"
     ]
    }
   ],
   "source": [
    "for brand in set(data_1_sample):\n",
    "    print(\"The car brand \"+brand+ f\" represent {data_1_sample.count(brand)*100/n} %\")"
   ]
  },
  {
   "cell_type": "markdown",
   "id": "7391c040",
   "metadata": {},
   "source": [
    "Estimating the proportion of Toyota cars"
   ]
  },
  {
   "cell_type": "code",
   "execution_count": 23,
   "id": "897066a2",
   "metadata": {},
   "outputs": [],
   "source": [
    "confidence_level = 0.95"
   ]
  },
  {
   "cell_type": "code",
   "execution_count": 24,
   "id": "3c04d4cd",
   "metadata": {},
   "outputs": [],
   "source": [
    "alpha = 1 - confidence_level"
   ]
  },
  {
   "cell_type": "code",
   "execution_count": 25,
   "id": "211698e2",
   "metadata": {},
   "outputs": [],
   "source": [
    "point_estimate = data_1_sample.count(\"Toyota\") / n"
   ]
  },
  {
   "cell_type": "code",
   "execution_count": 26,
   "id": "c91a1b7a",
   "metadata": {},
   "outputs": [],
   "source": [
    "  critical_z_1 = stats.norm.ppf(confidence_level + alpha/2)\n",
    "# critical_z_1 = stats.norm.ppf(1 - alpha/2)"
   ]
  },
  {
   "cell_type": "code",
   "execution_count": 27,
   "id": "71dc2b7d",
   "metadata": {},
   "outputs": [],
   "source": [
    "standard_error_1 = math.sqrt( (point_estimate) * (1-point_estimate)/n )"
   ]
  },
  {
   "cell_type": "code",
   "execution_count": 28,
   "id": "9579be8c",
   "metadata": {},
   "outputs": [],
   "source": [
    "margin_error_1 = critical_z_1 * standard_error_1"
   ]
  },
  {
   "cell_type": "code",
   "execution_count": 29,
   "id": "4f887235",
   "metadata": {},
   "outputs": [],
   "source": [
    "lower_bound_1 = point_estimate - margin_error_1\n",
    "upper_bound_1 = point_estimate + margin_error_1"
   ]
  },
  {
   "cell_type": "code",
   "execution_count": 30,
   "id": "ed02c2bd",
   "metadata": {},
   "outputs": [
    {
     "name": "stdout",
     "output_type": "stream",
     "text": [
      "The estimation of Toyota cars proportion is between 16.12 % and 23.08 %\n"
     ]
    }
   ],
   "source": [
    "print(f\"The estimation of Toyota cars proportion is between {lower_bound_1*100:.4} % and {upper_bound_1*100:.4} %\")"
   ]
  },
  {
   "cell_type": "markdown",
   "id": "827cec4b",
   "metadata": {},
   "source": [
    "Method for returning the confidence interval"
   ]
  },
  {
   "cell_type": "code",
   "execution_count": 31,
   "id": "a02a821c",
   "metadata": {},
   "outputs": [
    {
     "data": {
      "text/plain": [
       "(0.16120481508023668, 0.23079518491976334)"
      ]
     },
     "execution_count": 31,
     "metadata": {},
     "output_type": "execute_result"
    }
   ],
   "source": [
    "stats.norm.interval(confidence = 0.95, loc = point_estimate,scale=standard_error_1)"
   ]
  },
  {
   "cell_type": "markdown",
   "id": "2b09c96d",
   "metadata": {},
   "source": [
    "# Estimating Population Mean"
   ]
  },
  {
   "cell_type": "markdown",
   "id": "52119372",
   "metadata": {},
   "source": [
    "Generating normal distributed data"
   ]
  },
  {
   "cell_type": "code",
   "execution_count": 32,
   "id": "2ec2d9c8",
   "metadata": {},
   "outputs": [],
   "source": [
    "data_2 = np.random.normal( 170 , 7 , 200000 )"
   ]
  },
  {
   "cell_type": "markdown",
   "id": "3b0cf6b5",
   "metadata": {},
   "source": [
    "Sample data"
   ]
  },
  {
   "cell_type": "code",
   "execution_count": 33,
   "id": "3c6ff954",
   "metadata": {},
   "outputs": [],
   "source": [
    "data_2_sample = np.random.choice(a = data_2 , size = 500)"
   ]
  },
  {
   "cell_type": "markdown",
   "id": "287e7a92",
   "metadata": {},
   "source": [
    "Estimating the population mean (With the Z-Score)"
   ]
  },
  {
   "cell_type": "code",
   "execution_count": 56,
   "id": "2e1dbcee",
   "metadata": {},
   "outputs": [],
   "source": [
    "n2 = len(data_2_sample)"
   ]
  },
  {
   "cell_type": "code",
   "execution_count": 57,
   "id": "e4b61b01",
   "metadata": {},
   "outputs": [],
   "source": [
    "sample_mean_2 = data_2_sample.mean()"
   ]
  },
  {
   "cell_type": "code",
   "execution_count": 58,
   "id": "146e1d61",
   "metadata": {},
   "outputs": [],
   "source": [
    "population_std_2  = data_2.std()"
   ]
  },
  {
   "cell_type": "code",
   "execution_count": 59,
   "id": "5facd979",
   "metadata": {},
   "outputs": [],
   "source": [
    "standard_error_2 = population_std_2 / math.sqrt(n2)"
   ]
  },
  {
   "cell_type": "code",
   "execution_count": 60,
   "id": "1871049c",
   "metadata": {},
   "outputs": [],
   "source": [
    "critical_z_2 = stats.norm.ppf( confidence_level + alpha/2 )"
   ]
  },
  {
   "cell_type": "code",
   "execution_count": 61,
   "id": "291033e4",
   "metadata": {},
   "outputs": [
    {
     "data": {
      "text/plain": [
       "(169.58921463661358, 170.81668894555878)"
      ]
     },
     "execution_count": 61,
     "metadata": {},
     "output_type": "execute_result"
    }
   ],
   "source": [
    "stats.norm.interval(confidence=confidence_level, loc=sample_mean_2 , scale=standard_error_2)"
   ]
  },
  {
   "cell_type": "markdown",
   "id": "da34d2fc",
   "metadata": {},
   "source": [
    "Estimating the population mean (With the T-Score)"
   ]
  },
  {
   "cell_type": "code",
   "execution_count": 65,
   "id": "da16f2dc",
   "metadata": {},
   "outputs": [
    {
     "data": {
      "text/plain": [
       "(169.62281512431716, 170.7830884578552)"
      ]
     },
     "execution_count": 65,
     "metadata": {},
     "output_type": "execute_result"
    }
   ],
   "source": [
    "stats.t.interval(\n",
    "    confidence= confidence_level,\n",
    "    loc= sample_mean_2,\n",
    "    scale= (data_2_sample.std(ddof=1)/math.sqrt(n2)),\n",
    "    df= n2-1)"
   ]
  },
  {
   "cell_type": "markdown",
   "id": "ba4224a1",
   "metadata": {},
   "source": [
    "# Central Limit Theorem"
   ]
  },
  {
   "cell_type": "markdown",
   "id": "d9bed60e",
   "metadata": {},
   "source": [
    "Generating non-normal distributed data"
   ]
  },
  {
   "cell_type": "code",
   "execution_count": 3,
   "id": "a81c7726",
   "metadata": {},
   "outputs": [],
   "source": [
    "np.random.seed(30)\n",
    "data_3 = np.random.randint(150,195,size=200000)"
   ]
  },
  {
   "cell_type": "code",
   "execution_count": 4,
   "id": "cc4002b2",
   "metadata": {},
   "outputs": [
    {
     "data": {
      "image/png": "[encoded data removed]",
      "text/plain": [
       "<Figure size 800x600 with 1 Axes>"
      ]
     },
     "metadata": {},
     "output_type": "display_data"
    }
   ],
   "source": [
    "plt.figure(figsize=(8, 6))\n",
    "plt.hist(data_3, bins=45)\n",
    "plt.xlabel('Values')\n",
    "plt.ylabel('Frequency')\n",
    "plt.grid(True)\n",
    "plt.show()"
   ]
  },
  {
   "cell_type": "markdown",
   "id": "ef278cdd",
   "metadata": {},
   "source": [
    "Creating normal distributed data via central limit theorem"
   ]
  },
  {
   "cell_type": "code",
   "execution_count": 66,
   "id": "4dc685c7",
   "metadata": {},
   "outputs": [],
   "source": [
    "np.random.seed(15)\n",
    "\n",
    "point_estimates = []\n",
    "\n",
    "for x in range(500):\n",
    "    sample = np.random.choice(a = data_3, size=1000)\n",
    "    point_estimates.append(np.mean(sample))"
   ]
  },
  {
   "cell_type": "code",
   "execution_count": 67,
   "id": "e0965076",
   "metadata": {},
   "outputs": [
    {
     "data": {
      "image/png": "[encoded data removed]",
      "text/plain": [
       "<Figure size 800x600 with 1 Axes>"
      ]
     },
     "metadata": {},
     "output_type": "display_data"
    }
   ],
   "source": [
    "plt.figure(figsize=(8, 6))\n",
    "sns.kdeplot(point_estimates, fill=True, color='orange')\n",
    "plt.title('Kernel Density Estimation of Sample Means')\n",
    "plt.xlabel('Sample Means')\n",
    "plt.ylabel('Density')\n",
    "plt.grid(True)\n",
    "plt.show()"
   ]
  }
 ],
 "metadata": {
  "kernelspec": {
   "display_name": "Python 3",
   "language": "python",
   "name": "python3"
  },
  "language_info": {
   "codemirror_mode": {
    "name": "ipython",
    "version": 3
   },
   "file_extension": ".py",
   "mimetype": "text/x-python",
   "name": "python",
   "nbconvert_exporter": "python",
   "pygments_lexer": "ipython3",
   "version": "3.11.7"
  }
 },
 "nbformat": 4,
 "nbformat_minor": 5
}
