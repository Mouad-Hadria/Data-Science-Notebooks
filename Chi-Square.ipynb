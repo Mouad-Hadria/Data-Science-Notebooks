{
 "cells": [
  {
   "cell_type": "code",
   "execution_count": 1,
   "id": "0e5671d7",
   "metadata": {},
   "outputs": [],
   "source": [
    "import numpy as np\n",
    "import pandas as pd\n",
    "import scipy.stats as stats"
   ]
  },
  {
   "cell_type": "markdown",
   "id": "561ff456",
   "metadata": {},
   "source": [
    "# Chi-Squared Goodness-Of-Fit Test"
   ]
  },
  {
   "cell_type": "markdown",
   "id": "808668cf",
   "metadata": {},
   "source": [
    "#### Preparing data"
   ]
  },
  {
   "cell_type": "code",
   "execution_count": 2,
   "id": "3d0f23e3",
   "metadata": {},
   "outputs": [],
   "source": [
    "data_1 = pd.DataFrame([\"Red\"]*30 + [\"Blue\"]*25 + [\"Green\"]*20+[\"Yellow\"]*15+[\"Orange\"]*10)"
   ]
  },
  {
   "cell_type": "code",
   "execution_count": 3,
   "id": "7f3bf2fa",
   "metadata": {},
   "outputs": [],
   "source": [
    "data_2 = pd.DataFrame([\"Red\"]*35 + [\"Blue\"]*30 + [\"Green\"]*15+[\"Yellow\"]*10+[\"Orange\"]*10)"
   ]
  },
  {
   "cell_type": "code",
   "execution_count": 4,
   "id": "6ddd052c",
   "metadata": {},
   "outputs": [],
   "source": [
    "observed_1 = pd.crosstab(index=data_1[0],columns=\"count\")"
   ]
  },
  {
   "cell_type": "code",
   "execution_count": 5,
   "id": "f7bb51ae",
   "metadata": {},
   "outputs": [],
   "source": [
    "expected_1 = pd.crosstab(index=data_2[0],columns=\"count\")"
   ]
  },
  {
   "cell_type": "code",
   "execution_count": 6,
   "id": "42cd5b3a",
   "metadata": {},
   "outputs": [
    {
     "data": {
      "text/html": [
       "<div>\n",
       "<style scoped>\n",
       "    .dataframe tbody tr th:only-of-type {\n",
       "        vertical-align: middle;\n",
       "    }\n",
       "\n",
       "    .dataframe tbody tr th {\n",
       "        vertical-align: top;\n",
       "    }\n",
       "\n",
       "    .dataframe thead th {\n",
       "        text-align: right;\n",
       "    }\n",
       "</style>\n",
       "<table border=\"1\" class=\"dataframe\">\n",
       "  <thead>\n",
       "    <tr style=\"text-align: right;\">\n",
       "      <th>col_0</th>\n",
       "      <th>count</th>\n",
       "    </tr>\n",
       "    <tr>\n",
       "      <th>0</th>\n",
       "      <th></th>\n",
       "    </tr>\n",
       "  </thead>\n",
       "  <tbody>\n",
       "    <tr>\n",
       "      <th>Blue</th>\n",
       "      <td>25</td>\n",
       "    </tr>\n",
       "    <tr>\n",
       "      <th>Green</th>\n",
       "      <td>20</td>\n",
       "    </tr>\n",
       "    <tr>\n",
       "      <th>Orange</th>\n",
       "      <td>10</td>\n",
       "    </tr>\n",
       "    <tr>\n",
       "      <th>Red</th>\n",
       "      <td>30</td>\n",
       "    </tr>\n",
       "    <tr>\n",
       "      <th>Yellow</th>\n",
       "      <td>15</td>\n",
       "    </tr>\n",
       "  </tbody>\n",
       "</table>\n",
       "</div>"
      ],
      "text/plain": [
       "col_0   count\n",
       "0            \n",
       "Blue       25\n",
       "Green      20\n",
       "Orange     10\n",
       "Red        30\n",
       "Yellow     15"
      ]
     },
     "execution_count": 6,
     "metadata": {},
     "output_type": "execute_result"
    }
   ],
   "source": [
    "observed_1"
   ]
  },
  {
   "cell_type": "code",
   "execution_count": 7,
   "id": "5b4290f6",
   "metadata": {},
   "outputs": [
    {
     "data": {
      "text/html": [
       "<div>\n",
       "<style scoped>\n",
       "    .dataframe tbody tr th:only-of-type {\n",
       "        vertical-align: middle;\n",
       "    }\n",
       "\n",
       "    .dataframe tbody tr th {\n",
       "        vertical-align: top;\n",
       "    }\n",
       "\n",
       "    .dataframe thead th {\n",
       "        text-align: right;\n",
       "    }\n",
       "</style>\n",
       "<table border=\"1\" class=\"dataframe\">\n",
       "  <thead>\n",
       "    <tr style=\"text-align: right;\">\n",
       "      <th>col_0</th>\n",
       "      <th>count</th>\n",
       "    </tr>\n",
       "    <tr>\n",
       "      <th>0</th>\n",
       "      <th></th>\n",
       "    </tr>\n",
       "  </thead>\n",
       "  <tbody>\n",
       "    <tr>\n",
       "      <th>Blue</th>\n",
       "      <td>30</td>\n",
       "    </tr>\n",
       "    <tr>\n",
       "      <th>Green</th>\n",
       "      <td>15</td>\n",
       "    </tr>\n",
       "    <tr>\n",
       "      <th>Orange</th>\n",
       "      <td>10</td>\n",
       "    </tr>\n",
       "    <tr>\n",
       "      <th>Red</th>\n",
       "      <td>35</td>\n",
       "    </tr>\n",
       "    <tr>\n",
       "      <th>Yellow</th>\n",
       "      <td>10</td>\n",
       "    </tr>\n",
       "  </tbody>\n",
       "</table>\n",
       "</div>"
      ],
      "text/plain": [
       "col_0   count\n",
       "0            \n",
       "Blue       30\n",
       "Green      15\n",
       "Orange     10\n",
       "Red        35\n",
       "Yellow     10"
      ]
     },
     "execution_count": 7,
     "metadata": {},
     "output_type": "execute_result"
    }
   ],
   "source": [
    "expected_1"
   ]
  },
  {
   "cell_type": "markdown",
   "id": "8d66882b",
   "metadata": {},
   "source": [
    "#### Calculating Chi Square test"
   ]
  },
  {
   "cell_type": "code",
   "execution_count": 8,
   "id": "dafc8372",
   "metadata": {},
   "outputs": [],
   "source": [
    "chi_squared_test_1 = (((observed_1-expected_1)**2)/expected_1).sum()"
   ]
  },
  {
   "cell_type": "markdown",
   "id": "775976d6",
   "metadata": {},
   "source": [
    "#### Concluding : Critical value apporoach"
   ]
  },
  {
   "cell_type": "code",
   "execution_count": 9,
   "id": "1f438637",
   "metadata": {},
   "outputs": [],
   "source": [
    "critical_value_1 = stats.chi2.ppf(q = 0.95, df = len(expected_1)-1)"
   ]
  },
  {
   "cell_type": "code",
   "execution_count": 10,
   "id": "66816000",
   "metadata": {},
   "outputs": [
    {
     "name": "stdout",
     "output_type": "stream",
     "text": [
      "col_0\n",
      "count    5.714286\n",
      "dtype: float64 \n",
      "\n",
      "9.487729036781154\n"
     ]
    }
   ],
   "source": [
    "print(chi_squared_test_1,\"\\n\")\n",
    "print(critical_value_1)"
   ]
  },
  {
   "cell_type": "markdown",
   "id": "aa3c1552",
   "metadata": {},
   "source": [
    "The Goodness of Fit Test is primarily a right-tailed hypothesis test, assessing if the test score exceeds the critical value."
   ]
  },
  {
   "cell_type": "markdown",
   "id": "eccbb6ba",
   "metadata": {},
   "source": [
    "Since 5.71 is less than 9.48, we cannot reject the null hypothesis. This suggests that based on the data observed, there isn't enough evidence to indicate a significant difference from the expected distribution."
   ]
  },
  {
   "cell_type": "markdown",
   "id": "00528a72",
   "metadata": {},
   "source": [
    "#### Concluding : P-value apporoach"
   ]
  },
  {
   "cell_type": "code",
   "execution_count": 11,
   "id": "61ab2b66",
   "metadata": {},
   "outputs": [],
   "source": [
    "p_value_1 = 1 - stats.chi2.cdf(chi_squared_test_1,  df = len(expected_1)-1)"
   ]
  },
  {
   "cell_type": "code",
   "execution_count": 12,
   "id": "45e7727d",
   "metadata": {},
   "outputs": [
    {
     "name": "stdout",
     "output_type": "stream",
     "text": [
      "[0.22152582]\n"
     ]
    }
   ],
   "source": [
    "print(p_value_1)"
   ]
  },
  {
   "cell_type": "markdown",
   "id": "046aaae0",
   "metadata": {},
   "source": [
    "Failing to reject the alternative hypothesis due to the p-value being larger than the chosen significance level (0.05)"
   ]
  },
  {
   "cell_type": "markdown",
   "id": "6b6db6dc",
   "metadata": {},
   "source": [
    "#### Method for returing the chi square test and p-value"
   ]
  },
  {
   "cell_type": "code",
   "execution_count": 13,
   "id": "a55bdc1d",
   "metadata": {},
   "outputs": [
    {
     "data": {
      "text/plain": [
       "Power_divergenceResult(statistic=array([5.71428571]), pvalue=array([0.22152582]))"
      ]
     },
     "execution_count": 13,
     "metadata": {},
     "output_type": "execute_result"
    }
   ],
   "source": [
    "stats.chisquare(f_obs= observed_1,   f_exp= expected_1)"
   ]
  },
  {
   "cell_type": "markdown",
   "id": "1725304c",
   "metadata": {},
   "source": [
    "# Chi-Squared Test of Independence"
   ]
  },
  {
   "cell_type": "code",
   "execution_count": 149,
   "id": "73197e3f",
   "metadata": {},
   "outputs": [],
   "source": [
    "np.random.seed(49)\n",
    "gender_options = ['Male', 'Female']\n",
    "smoking_status_options = ['Non-Smoker', 'Smoker']\n",
    "\n",
    "data = {\n",
    "    'Gender': np.random.choice(gender_options, size=1000),\n",
    "    'Smoking_Status': np.random.choice(smoking_status_options, size=1000)\n",
    "}\n",
    "\n",
    "data_3 = pd.DataFrame(data)"
   ]
  },
  {
   "cell_type": "code",
   "execution_count": 150,
   "id": "4db6257b",
   "metadata": {},
   "outputs": [],
   "source": [
    "contingency_table = pd.crosstab(data_3['Gender'], data_3['Smoking_Status'])"
   ]
  },
  {
   "cell_type": "code",
   "execution_count": 151,
   "id": "70a12a53",
   "metadata": {},
   "outputs": [],
   "source": [
    "_, p, _, _ = stats.chi2_contingency(contingency_table)"
   ]
  },
  {
   "cell_type": "code",
   "execution_count": 152,
   "id": "9ae03830",
   "metadata": {},
   "outputs": [
    {
     "name": "stdout",
     "output_type": "stream",
     "text": [
      "P-value: 0.08932055231733187\n"
     ]
    }
   ],
   "source": [
    "print(f\"P-value: {p}\")"
   ]
  },
  {
   "cell_type": "markdown",
   "id": "6440239e",
   "metadata": {},
   "source": [
    "Given that the 0.08 is greater than 0.05, we reject the alternative hypothesis. Consequently, we conclude that there is no significant association between the variables 'Gender' and 'Smoking_Status,'"
   ]
  }
 ],
 "metadata": {
  "kernelspec": {
   "display_name": "Python 3",
   "language": "python",
   "name": "python3"
  },
  "language_info": {
   "codemirror_mode": {
    "name": "ipython",
    "version": 3
   },
   "file_extension": ".py",
   "mimetype": "text/x-python",
   "name": "python",
   "nbconvert_exporter": "python",
   "pygments_lexer": "ipython3",
   "version": "3.11.7"
  }
 },
 "nbformat": 4,
 "nbformat_minor": 5
}
